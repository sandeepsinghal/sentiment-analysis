{
 "cells": [
  {
   "cell_type": "code",
   "execution_count": 1,
   "metadata": {},
   "outputs": [
    {
     "name": "stderr",
     "output_type": "stream",
     "text": [
      "/Users/Shared/u001/src/github/sentiment-analysis/venv/lib/python3.10/site-packages/tqdm/auto.py:21: TqdmWarning: IProgress not found. Please update jupyter and ipywidgets. See https://ipywidgets.readthedocs.io/en/stable/user_install.html\n",
      "  from .autonotebook import tqdm as notebook_tqdm\n",
      "Device set to use mps:0\n"
     ]
    },
    {
     "name": "stdout",
     "output_type": "stream",
     "text": [
      "[{'label': 'Positive', 'score': 1.0}]\n"
     ]
    }
   ],
   "source": [
    "from transformers import BertTokenizer, BertForSequenceClassification\n",
    "from transformers import pipeline\n",
    "\n",
    "# Load pre-trained FinBERT model and tokenizer\n",
    "model = BertForSequenceClassification.from_pretrained('yiyanghkust/finbert-tone', num_labels=3)\n",
    "tokenizer = BertTokenizer.from_pretrained('yiyanghkust/finbert-tone')\n",
    "\n",
    "# Create a sentiment analysis pipeline\n",
    "nlp = pipeline(\"sentiment-analysis\", model=model, tokenizer=tokenizer)\n",
    "\n",
    "# Sample stock news\n",
    "stock_news = \"\"\"\n",
    "Apple Inc. shares rose on Monday after the company announced a new line of products.\n",
    "The new iPhone model is expected to boost sales significantly.\n",
    "\"\"\"\n",
    "\n",
    "# Perform sentiment analysis\n",
    "result = nlp(stock_news)\n",
    "print(result)"
   ]
  },
  {
   "cell_type": "code",
   "execution_count": 2,
   "metadata": {},
   "outputs": [],
   "source": [
    "# create a method that can take a news and return the sentiment \n",
    "def get_sentiment(news):\n",
    "    result = nlp(news)\n",
    "    return result"
   ]
  },
  {
   "cell_type": "code",
   "execution_count": 3,
   "metadata": {},
   "outputs": [
    {
     "name": "stdout",
     "output_type": "stream",
     "text": [
      "News: Tesla shares surged after the company reported record quarterly earnings.\n",
      "Sentiment: [{'label': 'Positive', 'score': 1.0}]\n",
      "\n",
      "News: Amazon stock fell as the company missed revenue expectations for the third quarter.\n",
      "Sentiment: [{'label': 'Negative', 'score': 0.9999998807907104}]\n",
      "\n",
      "News: Microsoft announced a new line of Surface products, boosting investor confidence.\n",
      "Sentiment: [{'label': 'Positive', 'score': 1.0}]\n",
      "\n",
      "News: Google's parent company Alphabet saw its shares rise after a strong earnings report.\n",
      "Sentiment: [{'label': 'Positive', 'score': 0.9999994039535522}]\n",
      "\n",
      "News: Facebook faced a significant drop in stock price following a data privacy scandal.\n",
      "Sentiment: [{'label': 'Negative', 'score': 0.9999990463256836}]\n",
      "\n",
      "News: Netflix shares soared after the streaming giant added more subscribers than expected.\n",
      "Sentiment: [{'label': 'Positive', 'score': 0.9999803304672241}]\n",
      "\n",
      "News: Apple's stock price increased as the company unveiled its latest iPhone model.\n",
      "Sentiment: [{'label': 'Positive', 'score': 0.9999967813491821}]\n",
      "\n",
      "News: Nvidia's shares dropped after the company issued a weaker-than-expected revenue forecast.\n",
      "Sentiment: [{'label': 'Negative', 'score': 0.9999963045120239}]\n",
      "\n",
      "News: Intel's stock rose on news of a major partnership with a leading tech firm.\n",
      "Sentiment: [{'label': 'Neutral', 'score': 0.9960285425186157}]\n",
      "\n",
      "News: IBM's shares fell after the company reported lower-than-expected quarterly profits.\n",
      "Sentiment: [{'label': 'Negative', 'score': 0.9999794960021973}]\n",
      "\n",
      "News: Adobe's stock price climbed following the announcement of a new suite of creative tools.\n",
      "Sentiment: [{'label': 'Neutral', 'score': 0.7802678346633911}]\n",
      "\n",
      "News: Salesforce shares increased as the company posted strong quarterly results.\n",
      "Sentiment: [{'label': 'Positive', 'score': 1.0}]\n",
      "\n",
      "News: Oracle's stock fell after the company reported a decline in cloud revenue.\n",
      "Sentiment: [{'label': 'Negative', 'score': 0.9999896287918091}]\n",
      "\n",
      "News: PayPal shares surged on news of a new partnership with a major retailer.\n",
      "Sentiment: [{'label': 'Positive', 'score': 0.9999949932098389}]\n",
      "\n",
      "News: Twitter's stock dropped after the company reported a decline in user growth.\n",
      "Sentiment: [{'label': 'Negative', 'score': 0.9999884366989136}]\n",
      "\n",
      "News: Uber shares rose as the company announced plans to expand its delivery services.\n",
      "Sentiment: [{'label': 'Neutral', 'score': 0.5540299415588379}]\n",
      "\n",
      "News: Lyft's stock fell after the company reported a larger-than-expected quarterly loss.\n",
      "Sentiment: [{'label': 'Negative', 'score': 0.9999697208404541}]\n",
      "\n",
      "News: Spotify shares increased following the announcement of a new exclusive podcast deal.\n",
      "Sentiment: [{'label': 'Positive', 'score': 0.999920129776001}]\n",
      "\n",
      "News: Snap's stock price surged after the company reported strong user growth.\n",
      "Sentiment: [{'label': 'Positive', 'score': 1.0}]\n",
      "\n",
      "News: Pinterest shares fell as the company missed revenue expectations.\n",
      "Sentiment: [{'label': 'Negative', 'score': 0.9999997615814209}]\n",
      "\n",
      "News: Zoom's stock rose on news of a major new enterprise customer.\n",
      "Sentiment: [{'label': 'Neutral', 'score': 0.7163206338882446}]\n",
      "\n",
      "News: Slack shares dropped after the company reported a decline in user engagement.\n",
      "Sentiment: [{'label': 'Negative', 'score': 0.999997615814209}]\n",
      "\n",
      "News: Shopify's stock price increased as the company posted strong sales growth.\n",
      "Sentiment: [{'label': 'Positive', 'score': 1.0}]\n",
      "\n",
      "News: Square shares surged on news of a new cryptocurrency initiative.\n",
      "Sentiment: [{'label': 'Positive', 'score': 0.9999755620956421}]\n",
      "\n",
      "News: Roku's stock fell after the company reported a decline in streaming hours.\n",
      "Sentiment: [{'label': 'Negative', 'score': 0.9997658133506775}]\n",
      "\n",
      "News: Etsy shares rose as the company announced a new marketing campaign.\n",
      "Sentiment: [{'label': 'Positive', 'score': 0.9877740740776062}]\n",
      "\n",
      "News: Peloton's stock dropped after the company issued a product recall.\n",
      "Sentiment: [{'label': 'Negative', 'score': 0.9999940395355225}]\n",
      "\n",
      "News: DocuSign shares increased following the announcement of a new partnership.\n",
      "Sentiment: [{'label': 'Positive', 'score': 0.9954107403755188}]\n",
      "\n",
      "News: Dropbox's stock fell after the company reported lower-than-expected earnings.\n",
      "Sentiment: [{'label': 'Negative', 'score': 0.9999762773513794}]\n",
      "\n",
      "News: Zillow shares surged on news of a new real estate acquisition.\n",
      "Sentiment: [{'label': 'Positive', 'score': 0.999993085861206}]\n",
      "\n"
     ]
    }
   ],
   "source": [
    "test_cases = [\n",
    "    \"Tesla shares surged after the company reported record quarterly earnings.\",\n",
    "    \"Amazon stock fell as the company missed revenue expectations for the third quarter.\",\n",
    "    \"Microsoft announced a new line of Surface products, boosting investor confidence.\",\n",
    "    \"Google's parent company Alphabet saw its shares rise after a strong earnings report.\",\n",
    "    \"Facebook faced a significant drop in stock price following a data privacy scandal.\",\n",
    "    \"Netflix shares soared after the streaming giant added more subscribers than expected.\",\n",
    "    \"Apple's stock price increased as the company unveiled its latest iPhone model.\",\n",
    "    \"Nvidia's shares dropped after the company issued a weaker-than-expected revenue forecast.\",\n",
    "    \"Intel's stock rose on news of a major partnership with a leading tech firm.\",\n",
    "    \"IBM's shares fell after the company reported lower-than-expected quarterly profits.\",\n",
    "    \"Adobe's stock price climbed following the announcement of a new suite of creative tools.\",\n",
    "    \"Salesforce shares increased as the company posted strong quarterly results.\",\n",
    "    \"Oracle's stock fell after the company reported a decline in cloud revenue.\",\n",
    "    \"PayPal shares surged on news of a new partnership with a major retailer.\",\n",
    "    \"Twitter's stock dropped after the company reported a decline in user growth.\",\n",
    "    \"Uber shares rose as the company announced plans to expand its delivery services.\",\n",
    "    \"Lyft's stock fell after the company reported a larger-than-expected quarterly loss.\",\n",
    "    \"Spotify shares increased following the announcement of a new exclusive podcast deal.\",\n",
    "    \"Snap's stock price surged after the company reported strong user growth.\",\n",
    "    \"Pinterest shares fell as the company missed revenue expectations.\",\n",
    "    \"Zoom's stock rose on news of a major new enterprise customer.\",\n",
    "    \"Slack shares dropped after the company reported a decline in user engagement.\",\n",
    "    \"Shopify's stock price increased as the company posted strong sales growth.\",\n",
    "    \"Square shares surged on news of a new cryptocurrency initiative.\",\n",
    "    \"Roku's stock fell after the company reported a decline in streaming hours.\",\n",
    "    \"Etsy shares rose as the company announced a new marketing campaign.\",\n",
    "    \"Peloton's stock dropped after the company issued a product recall.\",\n",
    "    \"DocuSign shares increased following the announcement of a new partnership.\",\n",
    "    \"Dropbox's stock fell after the company reported lower-than-expected earnings.\",\n",
    "    \"Zillow shares surged on news of a new real estate acquisition.\"\n",
    "]\n",
    "\n",
    "# Test the get_sentiment method with the test cases\n",
    "for news in test_cases:\n",
    "    sentiment = get_sentiment(news)\n",
    "    print(f\"News: {news}\\nSentiment: {sentiment}\\n\")\n",
    "\n",
    "\n"
   ]
  },
  {
   "cell_type": "code",
   "execution_count": null,
   "metadata": {
    "vscode": {
     "languageId": "typescript"
    }
   },
   "outputs": [],
   "source": []
  }
 ],
 "metadata": {
  "kernelspec": {
   "display_name": "venv",
   "language": "python",
   "name": "python3"
  },
  "language_info": {
   "codemirror_mode": {
    "name": "ipython",
    "version": 3
   },
   "file_extension": ".py",
   "mimetype": "text/x-python",
   "name": "python",
   "nbconvert_exporter": "python",
   "pygments_lexer": "ipython3",
   "version": "3.10.14"
  }
 },
 "nbformat": 4,
 "nbformat_minor": 2
}
